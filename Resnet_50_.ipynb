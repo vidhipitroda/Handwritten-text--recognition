{
  "nbformat": 4,
  "nbformat_minor": 0,
  "metadata": {
    "colab": {
      "name": "Resnet-50 .ipynb",
      "provenance": [],
      "collapsed_sections": [],
      "machine_shape": "hm",
      "authorship_tag": "ABX9TyNoRJXMPwX8BLks5oY370yQ",
      "include_colab_link": true
    },
    "kernelspec": {
      "name": "python3",
      "display_name": "Python 3"
    },
    "accelerator": "GPU"
  },
  "cells": [
    {
      "cell_type": "markdown",
      "metadata": {
        "id": "view-in-github",
        "colab_type": "text"
      },
      "source": [
        "<a href=\"https://colab.research.google.com/github/vidhipitroda/Resnet--50/blob/master/Resnet_50_.ipynb\" target=\"_parent\"><img src=\"https://colab.research.google.com/assets/colab-badge.svg\" alt=\"Open In Colab\"/></a>"
      ]
    },
    {
      "cell_type": "code",
      "metadata": {
        "id": "dCyyD6iDcIeg",
        "colab_type": "code",
        "outputId": "275e2742-5b22-49de-ecb4-f72475476347",
        "colab": {
          "base_uri": "https://localhost:8080/",
          "height": 114
        }
      },
      "source": [
        "#importing all the libraries and downloading dataset\n",
        "import tensorflow.compat.v1 as tf\n",
        "from keras.datasets import cifar100\n",
        "from tensorflow.keras.applications.resnet50 import ResNet50, preprocess_input\n",
        "import tensorflow.keras as keras\n",
        "from tensorflow.keras.models import Model, Sequential\n",
        "from tensorflow.keras.layers import Input, UpSampling2D, Flatten, BatchNormalization, Dense, Dropout, GlobalAveragePooling2D\n",
        "from tensorflow.keras import optimizers\n",
        "from keras.datasets import cifar100\n",
        "import tensorflow as tf\n",
        "from keras.utils import np_utils\n",
        "import numpy as np\n",
        "import matplotlib.pyplot as plt\n",
        "import time\n",
        "from skimage.transform import resize\n",
        "from keras.applications.resnet50 import preprocess_input, decode_predictions\n",
        "from keras.preprocessing.image import ImageDataGenerator\n",
        "\n",
        "(x_train, y_train), (x_test, y_test) = cifar100.load_data(label_mode='fine')"
      ],
      "execution_count": 0,
      "outputs": [
        {
          "output_type": "display_data",
          "data": {
            "text/html": [
              "<p style=\"color: red;\">\n",
              "The default version of TensorFlow in Colab will soon switch to TensorFlow 2.x.<br>\n",
              "We recommend you <a href=\"https://www.tensorflow.org/guide/migrate\" target=\"_blank\">upgrade</a> now \n",
              "or ensure your notebook will continue to use TensorFlow 1.x via the <code>%tensorflow_version 1.x</code> magic:\n",
              "<a href=\"https://colab.research.google.com/notebooks/tensorflow_version.ipynb\" target=\"_blank\">more info</a>.</p>\n"
            ],
            "text/plain": [
              "<IPython.core.display.HTML object>"
            ]
          },
          "metadata": {
            "tags": []
          }
        },
        {
          "output_type": "stream",
          "text": [
            "Using TensorFlow backend.\n"
          ],
          "name": "stderr"
        },
        {
          "output_type": "stream",
          "text": [
            "Downloading data from https://www.cs.toronto.edu/~kriz/cifar-100-python.tar.gz\n",
            "169009152/169001437 [==============================] - 2s 0us/step\n"
          ],
          "name": "stdout"
        }
      ]
    },
    {
      "cell_type": "markdown",
      "metadata": {
        "id": "QtOweKYRwcMH",
        "colab_type": "text"
      },
      "source": [
        "Installing keras-resnet"
      ]
    },
    {
      "cell_type": "code",
      "metadata": {
        "id": "TEDo2eebjScs",
        "colab_type": "code",
        "outputId": "df3abadb-019e-437e-a24d-5ca56cdff16c",
        "colab": {
          "base_uri": "https://localhost:8080/",
          "height": 326
        }
      },
      "source": [
        "pip install keras-resnet"
      ],
      "execution_count": 0,
      "outputs": [
        {
          "output_type": "stream",
          "text": [
            "Collecting keras-resnet\n",
            "  Downloading https://files.pythonhosted.org/packages/76/d4/a35cbd07381139dda4db42c81b88c59254faac026109022727b45b31bcad/keras-resnet-0.2.0.tar.gz\n",
            "Requirement already satisfied: keras>=2.2.4 in /usr/local/lib/python3.6/dist-packages (from keras-resnet) (2.2.5)\n",
            "Requirement already satisfied: six>=1.9.0 in /usr/local/lib/python3.6/dist-packages (from keras>=2.2.4->keras-resnet) (1.12.0)\n",
            "Requirement already satisfied: numpy>=1.9.1 in /usr/local/lib/python3.6/dist-packages (from keras>=2.2.4->keras-resnet) (1.17.5)\n",
            "Requirement already satisfied: h5py in /usr/local/lib/python3.6/dist-packages (from keras>=2.2.4->keras-resnet) (2.8.0)\n",
            "Requirement already satisfied: pyyaml in /usr/local/lib/python3.6/dist-packages (from keras>=2.2.4->keras-resnet) (3.13)\n",
            "Requirement already satisfied: keras-preprocessing>=1.1.0 in /usr/local/lib/python3.6/dist-packages (from keras>=2.2.4->keras-resnet) (1.1.0)\n",
            "Requirement already satisfied: keras-applications>=1.0.8 in /usr/local/lib/python3.6/dist-packages (from keras>=2.2.4->keras-resnet) (1.0.8)\n",
            "Requirement already satisfied: scipy>=0.14 in /usr/local/lib/python3.6/dist-packages (from keras>=2.2.4->keras-resnet) (1.4.1)\n",
            "Building wheels for collected packages: keras-resnet\n",
            "  Building wheel for keras-resnet (setup.py) ... \u001b[?25l\u001b[?25hdone\n",
            "  Created wheel for keras-resnet: filename=keras_resnet-0.2.0-py2.py3-none-any.whl size=20487 sha256=a648b1f1a14d3f56535264542c0f9b958111f7d1ae7bbc6b1de892626bb241ac\n",
            "  Stored in directory: /root/.cache/pip/wheels/5f/09/a5/497a30fd9ad9964e98a1254d1e164bcd1b8a5eda36197ecb3c\n",
            "Successfully built keras-resnet\n",
            "Installing collected packages: keras-resnet\n",
            "Successfully installed keras-resnet-0.2.0\n"
          ],
          "name": "stdout"
        }
      ]
    },
    {
      "cell_type": "markdown",
      "metadata": {
        "id": "NmowM7bAw1IJ",
        "colab_type": "text"
      },
      "source": [
        "Checking the shapes of dataset"
      ]
    },
    {
      "cell_type": "code",
      "metadata": {
        "id": "eGF3aUXpjGEx",
        "colab_type": "code",
        "outputId": "88926fd8-19e6-4d47-e817-953c919ad85d",
        "colab": {
          "base_uri": "https://localhost:8080/",
          "height": 85
        }
      },
      "source": [
        "print(\"shape of x_train\",x_train.shape)\n",
        "print(\"shape of y_train\",y_train.shape)\n",
        "print(\"shape of x_test\",x_test.shape)\n",
        "print(\"shape of y_test\",y_test.shape)\n"
      ],
      "execution_count": 0,
      "outputs": [
        {
          "output_type": "stream",
          "text": [
            "shape of x_train (50000, 32, 32, 3)\n",
            "shape of y_train (50000, 1)\n",
            "shape of x_test (10000, 32, 32, 3)\n",
            "shape of y_test (10000, 1)\n"
          ],
          "name": "stdout"
        }
      ]
    },
    {
      "cell_type": "code",
      "metadata": {
        "id": "_MMo6Uevquad",
        "colab_type": "code",
        "colab": {}
      },
      "source": [
        ""
      ],
      "execution_count": 0,
      "outputs": []
    },
    {
      "cell_type": "markdown",
      "metadata": {
        "id": "gcvgpaalwz5X",
        "colab_type": "text"
      },
      "source": [
        "**Dataset printing**"
      ]
    },
    {
      "cell_type": "code",
      "metadata": {
        "id": "twb2YHsmxsul",
        "colab_type": "code",
        "colab": {}
      },
      "source": [
        "#x_train[0][0]"
      ],
      "execution_count": 0,
      "outputs": []
    },
    {
      "cell_type": "markdown",
      "metadata": {
        "id": "IfenI9UIqIlr",
        "colab_type": "text"
      },
      "source": [
        " **Data preprocessing**"
      ]
    },
    {
      "cell_type": "code",
      "metadata": {
        "id": "afF7EFlzstDv",
        "colab_type": "code",
        "colab": {}
      },
      "source": [
        "num_classes = 100\n",
        "#nb_epochs = 10\n",
        "\n",
        "#performing one hot encoding on labels\n",
        "\n",
        "y_train = np_utils.to_categorical(y_train, num_classes)\n",
        "y_test = np_utils.to_categorical(y_test, num_classes)\n",
        "\n",
        "#perform preprocessing on input data\n",
        "\n",
        "x_train = preprocess_input(x_train)\n",
        "x_test = preprocess_input(x_test)\n",
        "\n",
        "\n",
        "\n",
        "\n"
      ],
      "execution_count": 0,
      "outputs": []
    },
    {
      "cell_type": "code",
      "metadata": {
        "id": "r1oYtkO8w2gd",
        "colab_type": "code",
        "colab": {}
      },
      "source": [
        "#image data augmentation is performed to improve the ability\n",
        "datagen = ImageDataGenerator(\n",
        "    featurewise_center=True,\n",
        "    featurewise_std_normalization=False,\n",
        "    rotation_range=10,\n",
        "    width_shift_range=0.2,\n",
        "    height_shift_range=0.2,\n",
        "    horizontal_flip=True)\n",
        "\n",
        "# compute quantities required for featurewise normalization\n",
        "# (std, mean, and principal components if ZCA whitening is applied)\n",
        "datagen.fit(x_train)\n"
      ],
      "execution_count": 0,
      "outputs": []
    },
    {
      "cell_type": "code",
      "metadata": {
        "id": "VkNhpC27wq7F",
        "colab_type": "code",
        "colab": {}
      },
      "source": [
        "\n"
      ],
      "execution_count": 0,
      "outputs": []
    },
    {
      "cell_type": "markdown",
      "metadata": {
        "id": "Lb8GaOm9qRSX",
        "colab_type": "text"
      },
      "source": [
        "**Defining the model and add fully connected layers at the end**"
      ]
    },
    {
      "cell_type": "code",
      "metadata": {
        "id": "Rm4Dbo7tokZs",
        "colab_type": "code",
        "outputId": "2d34c968-3657-4146-a9f8-b2551d110aea",
        "colab": {
          "base_uri": "https://localhost:8080/",
          "height": 122
        }
      },
      "source": [
        "#defining the model\n",
        "resnet_model = ResNet50(weights= 'imagenet' , include_top=False, input_shape=(32, 32, 3), classes=100)\n",
        "\n",
        "\n",
        "for layer in resnet_model.layers:\n",
        "    if isinstance(layer, BatchNormalization):\n",
        "        layer.trainable = True\n",
        "    else:\n",
        "        layer.trainable = False\n",
        "#adding fully connected layers \n",
        "\n",
        "\n",
        "model = Sequential()\n",
        "model.add(UpSampling2D())\n",
        "#model.add(UpSampling2D())\n",
        "#model.add(UpSampling2D())\n",
        "#model.add(BatchNormalization())\n",
        "model.add(resnet_model)\n",
        "model.add(GlobalAveragePooling2D())\n",
        "model.add(Dense(521, activation='relu'))\n",
        "model.add(Dropout(.10))\n",
        "#model.add(BatchNormalization())\n",
        "model.add(Dense(num_classes, activation='softmax'))\n",
        "\n"
      ],
      "execution_count": 0,
      "outputs": [
        {
          "output_type": "stream",
          "text": [
            "WARNING:tensorflow:From /usr/local/lib/python3.6/dist-packages/tensorflow_core/python/ops/resource_variable_ops.py:1630: calling BaseResourceVariable.__init__ (from tensorflow.python.ops.resource_variable_ops) with constraint is deprecated and will be removed in a future version.\n",
            "Instructions for updating:\n",
            "If using Keras pass *_constraint arguments to layers.\n",
            "Downloading data from https://github.com/keras-team/keras-applications/releases/download/resnet/resnet50_weights_tf_dim_ordering_tf_kernels_notop.h5\n",
            "94773248/94765736 [==============================] - 1s 0us/step\n"
          ],
          "name": "stdout"
        }
      ]
    },
    {
      "cell_type": "markdown",
      "metadata": {
        "id": "NxkgWDzCqajX",
        "colab_type": "text"
      },
      "source": [
        "**Compiling the model**"
      ]
    },
    {
      "cell_type": "code",
      "metadata": {
        "id": "NxHI22HNuOk8",
        "colab_type": "code",
        "colab": {}
      },
      "source": [
        "model.compile(loss='categorical_crossentropy',optimizer='adam',metrics=['accuracy'])\n"
      ],
      "execution_count": 0,
      "outputs": []
    },
    {
      "cell_type": "markdown",
      "metadata": {
        "id": "-R-A7qpPqeBT",
        "colab_type": "text"
      },
      "source": [
        " **Running the model**"
      ]
    },
    {
      "cell_type": "code",
      "metadata": {
        "id": "AGurUNvmuP2u",
        "colab_type": "code",
        "outputId": "c2245eaa-4c2f-4874-b44b-b44d196cce2b",
        "colab": {
          "base_uri": "https://localhost:8080/",
          "height": 68
        }
      },
      "source": [
        "\n",
        "history_callback = model.fit(x_train,y_train,batch_size=35,epochs=20,verbose=1,validation_data = (x_test, y_test))\n",
        "loss_history = history_callback.history[\"loss\"]"
      ],
      "execution_count": 0,
      "outputs": [
        {
          "output_type": "stream",
          "text": [
            "Train on 50000 samples, validate on 10000 samples\n",
            "Epoch 1/20\n",
            "  455/50000 [..............................] - ETA: 2:06:00 - loss: 5.2008 - acc: 0.0418"
          ],
          "name": "stdout"
        }
      ]
    },
    {
      "cell_type": "code",
      "metadata": {
        "id": "-bzEPNHNsfiQ",
        "colab_type": "code",
        "colab": {}
      },
      "source": [
        "\n"
      ],
      "execution_count": 0,
      "outputs": []
    },
    {
      "cell_type": "markdown",
      "metadata": {
        "id": "H3tFM6lVZd_C",
        "colab_type": "text"
      },
      "source": [
        "**Printing model summary**"
      ]
    },
    {
      "cell_type": "code",
      "metadata": {
        "id": "icVyh9BecSEk",
        "colab_type": "code",
        "outputId": "667fd921-75cd-4239-d12f-e15ee3ce3c65",
        "colab": {
          "base_uri": "https://localhost:8080/",
          "height": 425
        }
      },
      "source": [
        "model.summary()"
      ],
      "execution_count": 0,
      "outputs": [
        {
          "output_type": "stream",
          "text": [
            "Model: \"sequential_1\"\n",
            "_________________________________________________________________\n",
            "Layer (type)                 Output Shape              Param #   \n",
            "=================================================================\n",
            "up_sampling2d_3 (UpSampling2 multiple                  0         \n",
            "_________________________________________________________________\n",
            "up_sampling2d_4 (UpSampling2 multiple                  0         \n",
            "_________________________________________________________________\n",
            "up_sampling2d_5 (UpSampling2 multiple                  0         \n",
            "_________________________________________________________________\n",
            "resnet50 (Model)             (None, 7, 7, 2048)        23587712  \n",
            "_________________________________________________________________\n",
            "global_average_pooling2d_1 ( multiple                  0         \n",
            "_________________________________________________________________\n",
            "dense_2 (Dense)              multiple                  1067529   \n",
            "_________________________________________________________________\n",
            "dropout_1 (Dropout)          multiple                  0         \n",
            "_________________________________________________________________\n",
            "dense_3 (Dense)              multiple                  52200     \n",
            "=================================================================\n",
            "Total params: 24,707,441\n",
            "Trainable params: 1,119,729\n",
            "Non-trainable params: 23,587,712\n",
            "_________________________________________________________________\n"
          ],
          "name": "stdout"
        }
      ]
    },
    {
      "cell_type": "code",
      "metadata": {
        "id": "t0-fSWDcpSq1",
        "colab_type": "code",
        "outputId": "08e5bc66-766d-44bc-ab2e-c802624a8660",
        "colab": {
          "base_uri": "https://localhost:8080/",
          "height": 34
        }
      },
      "source": [
        "t=time.time()\n",
        "print('Training time: %s' % (t - time.time()))"
      ],
      "execution_count": 0,
      "outputs": [
        {
          "output_type": "stream",
          "text": [
            "Training time: -8.320808410644531e-05\n"
          ],
          "name": "stdout"
        }
      ]
    },
    {
      "cell_type": "markdown",
      "metadata": {
        "id": "iVirxf4NZjJr",
        "colab_type": "text"
      },
      "source": [
        "**Testing the model**"
      ]
    },
    {
      "cell_type": "code",
      "metadata": {
        "id": "1y-UcKUCc2gi",
        "colab_type": "code",
        "outputId": "39a80d1b-ef67-43a3-a0ef-b999b8c6b5bd",
        "colab": {
          "base_uri": "https://localhost:8080/",
          "height": 34
        }
      },
      "source": [
        "scores = model.evaluate(x_test, y_test, verbose=1)"
      ],
      "execution_count": 0,
      "outputs": [
        {
          "output_type": "stream",
          "text": [
            "10000/10000 [==============================] - 15s 2ms/sample - loss: 1.8633 - acc: 0.6405\n"
          ],
          "name": "stdout"
        }
      ]
    },
    {
      "cell_type": "code",
      "metadata": {
        "id": "B0ZN0Hrec53d",
        "colab_type": "code",
        "outputId": "79583670-cc18-4178-c29e-f04bfee71168",
        "colab": {
          "base_uri": "https://localhost:8080/",
          "height": 51
        }
      },
      "source": [
        "print('Test loss:', scores[0])\n",
        "print('Test accuracy:', scores[1])"
      ],
      "execution_count": 0,
      "outputs": [
        {
          "output_type": "stream",
          "text": [
            "Test loss: 1.863293790626526\n",
            "Test accuracy: 0.6405\n"
          ],
          "name": "stdout"
        }
      ]
    },
    {
      "cell_type": "markdown",
      "metadata": {
        "id": "-RWUEVVNpjpJ",
        "colab_type": "text"
      },
      "source": [
        "**Printing the loss history**"
      ]
    },
    {
      "cell_type": "code",
      "metadata": {
        "id": "kxsvfxZOe_nd",
        "colab_type": "code",
        "colab": {}
      },
      "source": [
        "import h5py\n",
        "import numpy\n",
        "numpy_loss_history = numpy.array(loss_history)\n",
        "numpy.savetxt(\"loss_history.txt\", numpy_loss_history, delimiter=\",\")"
      ],
      "execution_count": 0,
      "outputs": []
    },
    {
      "cell_type": "markdown",
      "metadata": {
        "id": "7cSbMT6Mpo0m",
        "colab_type": "text"
      },
      "source": [
        "**Printing the accuracy**"
      ]
    },
    {
      "cell_type": "code",
      "metadata": {
        "id": "2CaflfcKfiAT",
        "colab_type": "code",
        "colab": {}
      },
      "source": [
        "accuracy = history_callback.history[\"acc\"]\n",
        "numpy_loss_history = numpy.array(accuracy)\n",
        "numpy.savetxt(\"acc.txt\", numpy_loss_history, delimiter=\",\")"
      ],
      "execution_count": 0,
      "outputs": []
    },
    {
      "cell_type": "markdown",
      "metadata": {
        "id": "ajXZkgnSZpIg",
        "colab_type": "text"
      },
      "source": [
        "**Saving the model**"
      ]
    },
    {
      "cell_type": "code",
      "metadata": {
        "id": "2EbP_D-1ZaGK",
        "colab_type": "code",
        "colab": {}
      },
      "source": [
        "model_json = model.to_json()\n",
        "with open(\"model_pretained.json\", \"w\") as json_file:\n",
        "    json_file.write(model_json)"
      ],
      "execution_count": 0,
      "outputs": []
    },
    {
      "cell_type": "markdown",
      "metadata": {
        "id": "WqbDltN2puIi",
        "colab_type": "text"
      },
      "source": [
        "**Saving the weights in file**"
      ]
    },
    {
      "cell_type": "code",
      "metadata": {
        "id": "BBC8byx7c8I0",
        "colab_type": "code",
        "colab": {}
      },
      "source": [
        "#save weights\n",
        "model.save_weights('my_model_weights.h5')"
      ],
      "execution_count": 0,
      "outputs": []
    },
    {
      "cell_type": "markdown",
      "metadata": {
        "id": "WcPCMwaWp0Dt",
        "colab_type": "text"
      },
      "source": [
        "**Printing history of all parameters**"
      ]
    },
    {
      "cell_type": "code",
      "metadata": {
        "id": "hvcH9uiqkfhf",
        "colab_type": "code",
        "outputId": "b05328ad-5b5f-4641-b261-14258e41df07",
        "colab": {
          "base_uri": "https://localhost:8080/",
          "height": 88
        }
      },
      "source": [
        "print(history_callback.history.keys())\n",
        "print(\"Loss history\",history_callback.history['loss'])\n",
        "print('Accuracy for every epoch',history_callback.history['acc'])\n",
        "#print(\"Validation loss\", history_callback.history['val_loss'])\n",
        "#print('Validation accuracy',history_callback.history['val_acc'])"
      ],
      "execution_count": 0,
      "outputs": [
        {
          "output_type": "stream",
          "text": [
            "dict_keys(['loss', 'acc'])\n",
            "Loss history [2.1968058902204035, 1.4582945993185044, 1.2127111115157605, 1.0214670684158802, 0.8806990990817547, 0.7555160779818892, 0.657923465615511, 0.5654082992337645, 0.5100806192442775, 0.4503755242500454]\n",
            "Accuracy for every epoch [0.44162, 0.59146, 0.64882, 0.69522, 0.73376, 0.76776, 0.79568, 0.8208, 0.83884, 0.85614]\n"
          ],
          "name": "stdout"
        }
      ]
    },
    {
      "cell_type": "markdown",
      "metadata": {
        "id": "CsQ3CCY3p4l0",
        "colab_type": "text"
      },
      "source": [
        "**Plotting the graph of model accuracy**"
      ]
    },
    {
      "cell_type": "code",
      "metadata": {
        "id": "ksPmdoZ_c_p2",
        "colab_type": "code",
        "outputId": "e1f142b0-fa96-408e-cd80-a8d439abd978",
        "colab": {
          "base_uri": "https://localhost:8080/",
          "height": 295
        }
      },
      "source": [
        "import matplotlib.pyplot as plt\n",
        "\n",
        "#history = model.fit(x, y, validation_split=0.25, epochs=50, batch_size=16, verbose=1)\n",
        "\n",
        "# Plot training & validation accuracy values\n",
        "plt.plot(history_callback.history['acc'])\n",
        "#plt.plot(history_callback.history['val_acc'])\n",
        "plt.title('Model accuracy')\n",
        "plt.ylabel('Accuracy')\n",
        "plt.xlabel('Epoch')\n",
        "plt.legend(['Train', 'Test'], loc='upper left')\n",
        "plt.show()\n",
        "\n"
      ],
      "execution_count": 0,
      "outputs": [
        {
          "output_type": "display_data",
          "data": {
            "image/png": "[encoded data removed]",
            "text/plain": [
              "<Figure size 432x288 with 1 Axes>"
            ]
          },
          "metadata": {
            "tags": []
          }
        }
      ]
    },
    {
      "cell_type": "markdown",
      "metadata": {
        "id": "8iNMzSw9p_i0",
        "colab_type": "text"
      },
      "source": [
        "**Plotting the graph of model loss**"
      ]
    },
    {
      "cell_type": "code",
      "metadata": {
        "id": "WqbzY_sLdC0C",
        "colab_type": "code",
        "outputId": "2eb4601c-32e7-40c1-de86-810eb7d34f3a",
        "colab": {
          "base_uri": "https://localhost:8080/",
          "height": 295
        }
      },
      "source": [
        "\n",
        "# Plot training & validation loss values\n",
        "plt.plot(history_callback.history['loss'])\n",
        "#plt.plot(history_callback.history['val_loss'])\n",
        "plt.title('Model loss')\n",
        "plt.ylabel('Loss')\n",
        "plt.xlabel('Epoch')\n",
        "plt.legend(['Train', 'Test'], loc='upper left')\n",
        "plt.show()\n",
        "\n"
      ],
      "execution_count": 0,
      "outputs": [
        {
          "output_type": "display_data",
          "data": {
            "image/png": "[encoded data removed]",
            "text/plain": [
              "<Figure size 432x288 with 1 Axes>"
            ]
          },
          "metadata": {
            "tags": []
          }
        }
      ]
    },
    {
      "cell_type": "code",
      "metadata": {
        "id": "vTZCkEdddHhJ",
        "colab_type": "code",
        "colab": {}
      },
      "source": [
        ""
      ],
      "execution_count": 0,
      "outputs": []
    }
  ]
}